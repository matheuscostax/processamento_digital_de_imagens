{
 "cells": [
  {
   "cell_type": "code",
   "execution_count": 14,
   "metadata": {},
   "outputs": [],
   "source": [
    "from PIL import Image\n",
    "def create_brazilian_flag(widht):\n",
    "\n",
    "    green = (0, 155, 58)\n",
    "    yellow = (255, 233, 0)\n",
    "    blue = (0, 39, 118)\n",
    "\n",
    "    #Proporções da bandeira\n",
    "    height = int ((14/20) * widht)\n",
    "    unit = int(widht/20)\n",
    "    polygon_spacing = int(unit * 1.7)\n",
    "    radius = int(unit * 3.5)\n",
    "    center = (widht//2, height//2)\n",
    "\n",
    "    #Definindo os pontos do pilogono\n",
    "    top_x, top_y = center [0], polygon_spacing\n",
    "    right_x, right_y = (widht - polygon_spacing), center[1]\n",
    "    bottom_x, bottom_y = polygon_spacing, center[1]\n",
    "    left_x, left_y = polygon_spacing, center[1]\n",
    "\n",
    "    def interpolate_x(y, start_point, final_point):\n",
    "        if start_point [1] == final_point[1]:\n",
    "            return start_point[0]\n",
    "        \n",
    "        x = int (start_point[0] + ((y - start_point[1]) * (final_point[0] - start_point[0])) / (final_point[1] - start_point[1]))\n",
    "        return x\n",
    "    \n",
    "    brazilian_flag = Image.new('RGB', (widht, height), green)\n",
    "\n",
    "    for y in range (top_x, bottom_y):\n",
    "        if y < center[1]:\n",
    "            x_min = interpolate_x(y, (top_x, top_y), (left_x, left_y))\n",
    "            x_max = interpolate_x(y, (top_x, top_y), (right_x, right_y))\n",
    "\n",
    "        else:\n",
    "            x_min = interpolate_x(y, (left_x, left_x), (bottom_x, bottom_y))\n",
    "            x_max = interpolate_x(y, (right_x, right_y), (bottom_x, bottom_y))\n",
    "\n",
    "\n",
    "\n",
    "        for x in range(x_min, x_max):\n",
    "            brazilian_flag.putpixel((x, y), yellow)\n",
    "\n",
    "    for x in range(center[0]-radius, center[0]+radius):\n",
    "        for y in range(center[1]-radius, center[1]+radius):\n",
    "            if ((x-center[0])**2 + (y-center[1])**2) <= radius**2:\n",
    "                brazilian_flag.putpixel((x, y), blue)\n",
    "\n",
    "    return brazilian_flag"
   ]
  }
 ],
 "metadata": {
  "kernelspec": {
   "display_name": "Python 3",
   "language": "python",
   "name": "python3"
  },
  "language_info": {
   "codemirror_mode": {
    "name": "ipython",
    "version": 3
   },
   "file_extension": ".py",
   "mimetype": "text/x-python",
   "name": "python",
   "nbconvert_exporter": "python",
   "pygments_lexer": "ipython3",
   "version": "3.13.0"
  }
 },
 "nbformat": 4,
 "nbformat_minor": 2
}
